{
 "cells": [
  {
   "cell_type": "markdown",
   "metadata": {},
   "source": [
    "# Email Similarity with Naive Bayes\n",
    "\n",
    "In this project, we'll use scikit-learn's Naive Bayes implementation to classify emails from different categories. We'll explore how difficult it is to distinguish between similar topics (like hockey vs soccer) versus different topics (like sports vs tech)."
   ]
  },
  {
   "cell_type": "code",
   "execution_count": null,
   "metadata": {},
   "outputs": [],
   "source": [
    "# Import necessary libraries\n",
    "from sklearn.datasets import fetch_20newsgroups\n",
    "from sklearn.naive_bayes import MultinomialNB\n",
    "from sklearn.feature_extraction.text import CountVectorizer"
   ]
  },
  {
   "cell_type": "markdown",
   "metadata": {},
   "source": [
    "## Exploring the Data\n",
    "\n",
    "### Task 1: View available categories"
   ]
  },
  {
   "cell_type": "code",
   "execution_count": null,
   "metadata": {},
   "outputs": [],
   "source": [
    "# Fetch the dataset to see available categories\n",
    "emails = fetch_20newsgroups()\n",
    "\n",
    "# Task 1: Print the target names to see different categories\n",
    "print(emails.target_names)"
   ]
  },
  {
   "cell_type": "markdown",
   "metadata": {},
   "source": [
    "### Task 2: Select baseball and hockey categories"
   ]
  },
  {
   "cell_type": "code",
   "execution_count": null,
   "metadata": {},
   "outputs": [],
   "source": [
    "# Task 2: Fetch emails from baseball and hockey categories\n",
    "emails = fetch_20newsgroups(categories=['rec.sport.baseball', 'rec.sport.hockey'])"
   ]
  },
  {
   "cell_type": "markdown",
   "metadata": {},
   "source": [
    "### Task 3: Look at a sample email"
   ]
  },
  {
   "cell_type": "code",
   "execution_count": null,
   "metadata": {},
   "outputs": [],
   "source": [
    "# Task 3: Print the email at index 5\n",
    "print(emails.data[5])"
   ]
  },
  {
   "cell_type": "markdown",
   "metadata": {},
   "source": [
    "### Task 4: Check the label of the email"
   ]
  },
  {
   "cell_type": "code",
   "execution_count": null,
   "metadata": {},
   "outputs": [],
   "source": [
    "# Task 4: Print the label of the email at index 5\n",
    "print(f\"Label number: {emails.target[5]}\")\n",
    "print(f\"Label name: {emails.target_names[emails.target[5]]}\")"
   ]
  },
  {
   "cell_type": "markdown",
   "metadata": {},
   "source": [
    "## Making the Training and Test Sets\n",
    "\n",
    "### Task 5: Create training set"
   ]
  },
  {
   "cell_type": "code",
   "execution_count": null,
   "metadata": {},
   "outputs": [],
   "source": [
    "# Task 5: Create training emails dataset\n",
    "train_emails = fetch_20newsgroups(\n",
    "    categories=['rec.sport.baseball', 'rec.sport.hockey'],\n",
    "    subset='train',\n",
    "    shuffle=True,\n",
    "    random_state=108\n",
    ")"
   ]
  },
  {
   "cell_type": "markdown",
   "metadata": {},
   "source": [
    "### Task 6: Create test set"
   ]
  },
  {
   "cell_type": "code",
   "execution_count": null,
   "metadata": {},
   "outputs": [],
   "source": [
    "# Task 6: Create test emails dataset\n",
    "test_emails = fetch_20newsgroups(\n",
    "    categories=['rec.sport.baseball', 'rec.sport.hockey'],\n",
    "    subset='test',\n",
    "    shuffle=True,\n",
    "    random_state=108\n",
    ")"
   ]
  },
  {
   "cell_type": "markdown",
   "metadata": {},
   "source": [
    "## Counting Words\n",
    "\n",
    "### Task 7: Create CountVectorizer"
   ]
  },
  {
   "cell_type": "code",
   "execution_count": null,
   "metadata": {},
   "outputs": [],
   "source": [
    "# Task 7: Create a CountVectorizer object\n",
    "counter = CountVectorizer()"
   ]
  },
  {
   "cell_type": "markdown",
   "metadata": {},
   "source": [
    "### Task 8: Fit the CountVectorizer"
   ]
  },
  {
   "cell_type": "code",
   "execution_count": null,
   "metadata": {},
   "outputs": [],
   "source": [
    "# Task 8: Fit the counter with all email data\n",
    "counter.fit(test_emails.data + train_emails.data)"
   ]
  },
  {
   "cell_type": "markdown",
   "metadata": {},
   "source": [
    "### Task 9: Transform training data"
   ]
  },
  {
   "cell_type": "code",
   "execution_count": null,
   "metadata": {},
   "outputs": [],
   "source": [
    "# Task 9: Transform training emails into word counts\n",
    "train_counts = counter.transform(train_emails.data)"
   ]
  },
  {
   "cell_type": "markdown",
   "metadata": {},
   "source": [
    "### Task 10: Transform test data"
   ]
  },
  {
   "cell_type": "code",
   "execution_count": null,
   "metadata": {},
   "outputs": [],
   "source": [
    "# Task 10: Transform test emails into word counts\n",
    "test_counts = counter.transform(test_emails.data)"
   ]
  },
  {
   "cell_type": "markdown",
   "metadata": {},
   "source": [
    "## Making a Naive Bayes Classifier\n",
    "\n",
    "### Task 11: Create classifier"
   ]
  },
  {
   "cell_type": "code",
   "execution_count": null,
   "metadata": {},
   "outputs": [],
   "source": [
    "# Task 11: Create MultinomialNB classifier\n",
    "classifier = MultinomialNB()"
   ]
  },
  {
   "cell_type": "markdown",
   "metadata": {},
   "source": [
    "### Task 12: Train the classifier"
   ]
  },
  {
   "cell_type": "code",
   "execution_count": null,
   "metadata": {},
   "outputs": [],
   "source": [
    "# Task 12: Fit the classifier with training data\n",
    "classifier.fit(train_counts, train_emails.target)"
   ]
  },
  {
   "cell_type": "markdown",
   "metadata": {},
   "source": [
    "### Task 13: Test the classifier"
   ]
  },
  {
   "cell_type": "code",
   "execution_count": null,
   "metadata": {},
   "outputs": [],
   "source": [
    "# Task 13: Test classifier accuracy\n",
    "accuracy = classifier.score(test_counts, test_emails.target)\n",
    "print(f\"Accuracy for baseball vs hockey: {accuracy:.4f}\")"
   ]
  },
  {
   "cell_type": "markdown",
   "metadata": {},
   "source": [
    "## Testing Other Datasets\n",
    "\n",
    "### Task 14: Test hardware vs hockey emails"
   ]
  },
  {
   "cell_type": "code",
   "execution_count": null,
   "metadata": {},
   "outputs": [],
   "source": [
    "# Task 14: Test with different categories (hardware vs hockey)\n",
    "train_emails = fetch_20newsgroups(\n",
    "    categories=['comp.sys.ibm.pc.hardware', 'rec.sport.hockey'],\n",
    "    subset='train',\n",
    "    shuffle=True,\n",
    "    random_state=108\n",
    ")\n",
    "\n",
    "test_emails = fetch_20newsgroups(\n",
    "    categories=['comp.sys.ibm.pc.hardware', 'rec.sport.hockey'],\n",
    "    subset='test',\n",
    "    shuffle=True,\n",
    "    random_state=108\n",
    ")\n",
    "\n",
    "# Re-fit and transform with new data\n",
    "counter = CountVectorizer()\n",
    "counter.fit(test_emails.data + train_emails.data)\n",
    "train_counts = counter.transform(train_emails.data)\n",
    "test_counts = counter.transform(test_emails.data)\n",
    "\n",
    "# Train and test classifier\n",
    "classifier = MultinomialNB()\n",
    "classifier.fit(train_counts, train_emails.target)\n",
    "accuracy = classifier.score(test_counts, test_emails.target)\n",
    "print(f\"Accuracy for hardware vs hockey: {accuracy:.4f}\")"
   ]
  },
  {
   "cell_type": "markdown",
   "metadata": {},
   "source": [
    "### Task 15: Experiment with different category combinations\n",
    "\n",
    "Try different combinations to find:\n",
    "- Very similar topics (low accuracy)\n",
    "- Very different topics (high accuracy)"
   ]
  },
  {
   "cell_type": "code",
   "execution_count": null,
   "metadata": {},
   "outputs": [],
   "source": [
    "# Task 15: Test different category combinations\n",
    "\n",
    "# Function to test accuracy between two categories\n",
    "def test_categories(category1, category2):\n",
    "    # Fetch data\n",
    "    train_emails = fetch_20newsgroups(\n",
    "        categories=[category1, category2],\n",
    "        subset='train',\n",
    "        shuffle=True,\n",
    "        random_state=108\n",
    "    )\n",
    "    \n",
    "    test_emails = fetch_20newsgroups(\n",
    "        categories=[category1, category2],\n",
    "        subset='test',\n",
    "        shuffle=True,\n",
    "        random_state=108\n",
    "    )\n",
    "    \n",
    "    # Transform data\n",
    "    counter = CountVectorizer()\n",
    "    counter.fit(test_emails.data + train_emails.data)\n",
    "    train_counts = counter.transform(train_emails.data)\n",
    "    test_counts = counter.transform(test_emails.data)\n",
    "    \n",
    "    # Train and test\n",
    "    classifier = MultinomialNB()\n",
    "    classifier.fit(train_counts, train_emails.target)\n",
    "    accuracy = classifier.score(test_counts, test_emails.target)\n",
    "    \n",
    "    return accuracy\n",
    "\n",
    "# Test similar topics (should have lower accuracy)\n",
    "print(\"Similar topics:\")\n",
    "print(f\"Baseball vs Hockey: {test_categories('rec.sport.baseball', 'rec.sport.hockey'):.4f}\")\n",
    "print(f\"PC Hardware vs Mac Hardware: {test_categories('comp.sys.ibm.pc.hardware', 'comp.sys.mac.hardware'):.4f}\")\n",
    "print(f\"Politics Guns vs Politics Mideast: {test_categories('talk.politics.guns', 'talk.politics.mideast'):.4f}\")\n",
    "\n",
    "print(\"\\nDifferent topics:\")\n",
    "print(f\"Atheism vs Christian: {test_categories('alt.atheism', 'soc.religion.christian'):.4f}\")\n",
    "print(f\"Space vs Hockey: {test_categories('sci.space', 'rec.sport.hockey'):.4f}\")\n",
    "print(f\"Medicine vs Motorcycles: {test_categories('sci.med', 'rec.motorcycles'):.4f}\")"
   ]
  },
  {
   "cell_type": "markdown",
   "metadata": {},
   "source": [
    "## Available Categories\n",
    "\n",
    "Here are all the available categories you can experiment with:\n",
    "\n",
    "- 'alt.atheism'\n",
    "- 'comp.graphics'\n",
    "- 'comp.os.ms-windows.misc'\n",
    "- 'comp.sys.ibm.pc.hardware'\n",
    "- 'comp.sys.mac.hardware'\n",
    "- 'comp.windows.x'\n",
    "- 'misc.forsale'\n",
    "- 'rec.autos'\n",
    "- 'rec.motorcycles'\n",
    "- 'rec.sport.baseball'\n",
    "- 'rec.sport.hockey'\n",
    "- 'sci.crypt'\n",
    "- 'sci.electronics'\n",
    "- 'sci.med'\n",
    "- 'sci.space'\n",
    "- 'soc.religion.christian'\n",
    "- 'talk.politics.guns'\n",
    "- 'talk.politics.mideast'\n",
    "- 'talk.politics.misc'\n",
    "- 'talk.religion.misc'"
   ]
  }
 ],
 "metadata": {
  "kernelspec": {
   "display_name": "Python 3",
   "language": "python",
   "name": "python3"
  },
  "language_info": {
   "codemirror_mode": {
    "name": "ipython",
    "version": 3
   },
   "file_extension": ".py",
   "mimetype": "text/x-python",
   "name": "python",
   "nbconvert_exporter": "python",
   "pygments_lexer": "ipython3",
   "version": "3.8.0"
  }
 },
 "nbformat": 4,
 "nbformat_minor": 4
}